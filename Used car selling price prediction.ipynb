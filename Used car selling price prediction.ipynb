{
 "cells": [
  {
   "cell_type": "markdown",
   "id": "d0e2c46c",
   "metadata": {},
   "source": [
    "# Used car selling price prediction using machine learning"
   ]
  },
  {
   "cell_type": "markdown",
   "id": "d7c915be",
   "metadata": {},
   "source": [
    "### importing packages"
   ]
  },
  {
   "cell_type": "code",
   "execution_count": null,
   "id": "44f72366",
   "metadata": {},
   "outputs": [],
   "source": [
    "import numpy as np\n",
    "import pandas as pd\n",
    "import seaborn as sns\n",
    "%matplotlib inline\n",
    "import matplotlib.pyplot as plt"
   ]
  },
  {
   "cell_type": "markdown",
   "id": "345718c9",
   "metadata": {},
   "source": [
    "### Exploring the dataset"
   ]
  },
  {
   "cell_type": "code",
   "execution_count": 101,
   "id": "728de581",
   "metadata": {},
   "outputs": [],
   "source": [
    "train_df = pd.read_csv('train-data.csv')\n",
    "test_df = pd.read_csv('test-data.csv')"
   ]
  },
  {
   "cell_type": "code",
   "execution_count": 102,
   "id": "79db7fcd",
   "metadata": {},
   "outputs": [
    {
     "name": "stdout",
     "output_type": "stream",
     "text": [
      "shape of training data  (6019, 14) and testing data is (1234, 13)\n"
     ]
    }
   ],
   "source": [
    "print(f\"shape of training data  {train_df.shape} and testing data is {test_df.shape}\" )"
   ]
  },
  {
   "cell_type": "code",
   "execution_count": 103,
   "id": "a580daa6",
   "metadata": {},
   "outputs": [
    {
     "data": {
      "text/plain": [
       "Index(['Unnamed: 0', 'Name', 'Location', 'Year', 'Kilometers_Driven',\n",
       "       'Fuel_Type', 'Transmission', 'Owner_Type', 'Mileage', 'Engine', 'Power',\n",
       "       'Seats', 'New_Price', 'Price'],\n",
       "      dtype='object')"
      ]
     },
     "execution_count": 103,
     "metadata": {},
     "output_type": "execute_result"
    }
   ],
   "source": [
    "train_df.columns"
   ]
  },
  {
   "cell_type": "code",
   "execution_count": 104,
   "id": "387c38b3",
   "metadata": {},
   "outputs": [],
   "source": [
    "test_df['Price'] = np.nan\n",
    "test_df = test_df[train_df.columns]"
   ]
  },
  {
   "cell_type": "code",
   "execution_count": 105,
   "id": "a2d27d04",
   "metadata": {},
   "outputs": [
    {
     "data": {
      "text/html": [
       "<div>\n",
       "<style scoped>\n",
       "    .dataframe tbody tr th:only-of-type {\n",
       "        vertical-align: middle;\n",
       "    }\n",
       "\n",
       "    .dataframe tbody tr th {\n",
       "        vertical-align: top;\n",
       "    }\n",
       "\n",
       "    .dataframe thead th {\n",
       "        text-align: right;\n",
       "    }\n",
       "</style>\n",
       "<table border=\"1\" class=\"dataframe\">\n",
       "  <thead>\n",
       "    <tr style=\"text-align: right;\">\n",
       "      <th></th>\n",
       "      <th>Unnamed: 0</th>\n",
       "      <th>Name</th>\n",
       "      <th>Location</th>\n",
       "      <th>Year</th>\n",
       "      <th>Kilometers_Driven</th>\n",
       "      <th>Fuel_Type</th>\n",
       "      <th>Transmission</th>\n",
       "      <th>Owner_Type</th>\n",
       "      <th>Mileage</th>\n",
       "      <th>Engine</th>\n",
       "      <th>Power</th>\n",
       "      <th>Seats</th>\n",
       "      <th>New_Price</th>\n",
       "      <th>Price</th>\n",
       "    </tr>\n",
       "  </thead>\n",
       "  <tbody>\n",
       "    <tr>\n",
       "      <th>0</th>\n",
       "      <td>0</td>\n",
       "      <td>Maruti Alto K10 LXI CNG</td>\n",
       "      <td>Delhi</td>\n",
       "      <td>2014</td>\n",
       "      <td>40929</td>\n",
       "      <td>CNG</td>\n",
       "      <td>Manual</td>\n",
       "      <td>First</td>\n",
       "      <td>32.26 km/kg</td>\n",
       "      <td>998 CC</td>\n",
       "      <td>58.2 bhp</td>\n",
       "      <td>4.0</td>\n",
       "      <td>NaN</td>\n",
       "      <td>NaN</td>\n",
       "    </tr>\n",
       "    <tr>\n",
       "      <th>1</th>\n",
       "      <td>1</td>\n",
       "      <td>Maruti Alto 800 2016-2019 LXI</td>\n",
       "      <td>Coimbatore</td>\n",
       "      <td>2013</td>\n",
       "      <td>54493</td>\n",
       "      <td>Petrol</td>\n",
       "      <td>Manual</td>\n",
       "      <td>Second</td>\n",
       "      <td>24.7 kmpl</td>\n",
       "      <td>796 CC</td>\n",
       "      <td>47.3 bhp</td>\n",
       "      <td>5.0</td>\n",
       "      <td>NaN</td>\n",
       "      <td>NaN</td>\n",
       "    </tr>\n",
       "    <tr>\n",
       "      <th>2</th>\n",
       "      <td>2</td>\n",
       "      <td>Toyota Innova Crysta Touring Sport 2.4 MT</td>\n",
       "      <td>Mumbai</td>\n",
       "      <td>2017</td>\n",
       "      <td>34000</td>\n",
       "      <td>Diesel</td>\n",
       "      <td>Manual</td>\n",
       "      <td>First</td>\n",
       "      <td>13.68 kmpl</td>\n",
       "      <td>2393 CC</td>\n",
       "      <td>147.8 bhp</td>\n",
       "      <td>7.0</td>\n",
       "      <td>25.27 Lakh</td>\n",
       "      <td>NaN</td>\n",
       "    </tr>\n",
       "    <tr>\n",
       "      <th>3</th>\n",
       "      <td>3</td>\n",
       "      <td>Toyota Etios Liva GD</td>\n",
       "      <td>Hyderabad</td>\n",
       "      <td>2012</td>\n",
       "      <td>139000</td>\n",
       "      <td>Diesel</td>\n",
       "      <td>Manual</td>\n",
       "      <td>First</td>\n",
       "      <td>23.59 kmpl</td>\n",
       "      <td>1364 CC</td>\n",
       "      <td>null bhp</td>\n",
       "      <td>5.0</td>\n",
       "      <td>NaN</td>\n",
       "      <td>NaN</td>\n",
       "    </tr>\n",
       "    <tr>\n",
       "      <th>4</th>\n",
       "      <td>4</td>\n",
       "      <td>Hyundai i20 Magna</td>\n",
       "      <td>Mumbai</td>\n",
       "      <td>2014</td>\n",
       "      <td>29000</td>\n",
       "      <td>Petrol</td>\n",
       "      <td>Manual</td>\n",
       "      <td>First</td>\n",
       "      <td>18.5 kmpl</td>\n",
       "      <td>1197 CC</td>\n",
       "      <td>82.85 bhp</td>\n",
       "      <td>5.0</td>\n",
       "      <td>NaN</td>\n",
       "      <td>NaN</td>\n",
       "    </tr>\n",
       "  </tbody>\n",
       "</table>\n",
       "</div>"
      ],
      "text/plain": [
       "   Unnamed: 0                                       Name    Location  Year  \\\n",
       "0           0                    Maruti Alto K10 LXI CNG       Delhi  2014   \n",
       "1           1              Maruti Alto 800 2016-2019 LXI  Coimbatore  2013   \n",
       "2           2  Toyota Innova Crysta Touring Sport 2.4 MT      Mumbai  2017   \n",
       "3           3                       Toyota Etios Liva GD   Hyderabad  2012   \n",
       "4           4                          Hyundai i20 Magna      Mumbai  2014   \n",
       "\n",
       "   Kilometers_Driven Fuel_Type Transmission Owner_Type      Mileage   Engine  \\\n",
       "0              40929       CNG       Manual      First  32.26 km/kg   998 CC   \n",
       "1              54493    Petrol       Manual     Second    24.7 kmpl   796 CC   \n",
       "2              34000    Diesel       Manual      First   13.68 kmpl  2393 CC   \n",
       "3             139000    Diesel       Manual      First   23.59 kmpl  1364 CC   \n",
       "4              29000    Petrol       Manual      First    18.5 kmpl  1197 CC   \n",
       "\n",
       "       Power  Seats   New_Price  Price  \n",
       "0   58.2 bhp    4.0         NaN    NaN  \n",
       "1   47.3 bhp    5.0         NaN    NaN  \n",
       "2  147.8 bhp    7.0  25.27 Lakh    NaN  \n",
       "3   null bhp    5.0         NaN    NaN  \n",
       "4  82.85 bhp    5.0         NaN    NaN  "
      ]
     },
     "execution_count": 105,
     "metadata": {},
     "output_type": "execute_result"
    }
   ],
   "source": [
    "test_df.head()"
   ]
  },
  {
   "cell_type": "code",
   "execution_count": 106,
   "id": "8c79cfd6",
   "metadata": {
    "scrolled": false
   },
   "outputs": [
    {
     "data": {
      "text/html": [
       "<div>\n",
       "<style scoped>\n",
       "    .dataframe tbody tr th:only-of-type {\n",
       "        vertical-align: middle;\n",
       "    }\n",
       "\n",
       "    .dataframe tbody tr th {\n",
       "        vertical-align: top;\n",
       "    }\n",
       "\n",
       "    .dataframe thead th {\n",
       "        text-align: right;\n",
       "    }\n",
       "</style>\n",
       "<table border=\"1\" class=\"dataframe\">\n",
       "  <thead>\n",
       "    <tr style=\"text-align: right;\">\n",
       "      <th></th>\n",
       "      <th>Unnamed: 0</th>\n",
       "      <th>Name</th>\n",
       "      <th>Location</th>\n",
       "      <th>Year</th>\n",
       "      <th>Kilometers_Driven</th>\n",
       "      <th>Fuel_Type</th>\n",
       "      <th>Transmission</th>\n",
       "      <th>Owner_Type</th>\n",
       "      <th>Mileage</th>\n",
       "      <th>Engine</th>\n",
       "      <th>Power</th>\n",
       "      <th>Seats</th>\n",
       "      <th>New_Price</th>\n",
       "      <th>Price</th>\n",
       "    </tr>\n",
       "  </thead>\n",
       "  <tbody>\n",
       "    <tr>\n",
       "      <th>0</th>\n",
       "      <td>0</td>\n",
       "      <td>Maruti Wagon R LXI CNG</td>\n",
       "      <td>Mumbai</td>\n",
       "      <td>2010</td>\n",
       "      <td>72000</td>\n",
       "      <td>CNG</td>\n",
       "      <td>Manual</td>\n",
       "      <td>First</td>\n",
       "      <td>26.6 km/kg</td>\n",
       "      <td>998 CC</td>\n",
       "      <td>58.16 bhp</td>\n",
       "      <td>5.0</td>\n",
       "      <td>NaN</td>\n",
       "      <td>1.75</td>\n",
       "    </tr>\n",
       "    <tr>\n",
       "      <th>1</th>\n",
       "      <td>1</td>\n",
       "      <td>Hyundai Creta 1.6 CRDi SX Option</td>\n",
       "      <td>Pune</td>\n",
       "      <td>2015</td>\n",
       "      <td>41000</td>\n",
       "      <td>Diesel</td>\n",
       "      <td>Manual</td>\n",
       "      <td>First</td>\n",
       "      <td>19.67 kmpl</td>\n",
       "      <td>1582 CC</td>\n",
       "      <td>126.2 bhp</td>\n",
       "      <td>5.0</td>\n",
       "      <td>NaN</td>\n",
       "      <td>12.50</td>\n",
       "    </tr>\n",
       "    <tr>\n",
       "      <th>2</th>\n",
       "      <td>2</td>\n",
       "      <td>Honda Jazz V</td>\n",
       "      <td>Chennai</td>\n",
       "      <td>2011</td>\n",
       "      <td>46000</td>\n",
       "      <td>Petrol</td>\n",
       "      <td>Manual</td>\n",
       "      <td>First</td>\n",
       "      <td>18.2 kmpl</td>\n",
       "      <td>1199 CC</td>\n",
       "      <td>88.7 bhp</td>\n",
       "      <td>5.0</td>\n",
       "      <td>8.61 Lakh</td>\n",
       "      <td>4.50</td>\n",
       "    </tr>\n",
       "    <tr>\n",
       "      <th>3</th>\n",
       "      <td>3</td>\n",
       "      <td>Maruti Ertiga VDI</td>\n",
       "      <td>Chennai</td>\n",
       "      <td>2012</td>\n",
       "      <td>87000</td>\n",
       "      <td>Diesel</td>\n",
       "      <td>Manual</td>\n",
       "      <td>First</td>\n",
       "      <td>20.77 kmpl</td>\n",
       "      <td>1248 CC</td>\n",
       "      <td>88.76 bhp</td>\n",
       "      <td>7.0</td>\n",
       "      <td>NaN</td>\n",
       "      <td>6.00</td>\n",
       "    </tr>\n",
       "    <tr>\n",
       "      <th>4</th>\n",
       "      <td>4</td>\n",
       "      <td>Audi A4 New 2.0 TDI Multitronic</td>\n",
       "      <td>Coimbatore</td>\n",
       "      <td>2013</td>\n",
       "      <td>40670</td>\n",
       "      <td>Diesel</td>\n",
       "      <td>Automatic</td>\n",
       "      <td>Second</td>\n",
       "      <td>15.2 kmpl</td>\n",
       "      <td>1968 CC</td>\n",
       "      <td>140.8 bhp</td>\n",
       "      <td>5.0</td>\n",
       "      <td>NaN</td>\n",
       "      <td>17.74</td>\n",
       "    </tr>\n",
       "  </tbody>\n",
       "</table>\n",
       "</div>"
      ],
      "text/plain": [
       "   Unnamed: 0                              Name    Location  Year  \\\n",
       "0           0            Maruti Wagon R LXI CNG      Mumbai  2010   \n",
       "1           1  Hyundai Creta 1.6 CRDi SX Option        Pune  2015   \n",
       "2           2                      Honda Jazz V     Chennai  2011   \n",
       "3           3                 Maruti Ertiga VDI     Chennai  2012   \n",
       "4           4   Audi A4 New 2.0 TDI Multitronic  Coimbatore  2013   \n",
       "\n",
       "   Kilometers_Driven Fuel_Type Transmission Owner_Type     Mileage   Engine  \\\n",
       "0              72000       CNG       Manual      First  26.6 km/kg   998 CC   \n",
       "1              41000    Diesel       Manual      First  19.67 kmpl  1582 CC   \n",
       "2              46000    Petrol       Manual      First   18.2 kmpl  1199 CC   \n",
       "3              87000    Diesel       Manual      First  20.77 kmpl  1248 CC   \n",
       "4              40670    Diesel    Automatic     Second   15.2 kmpl  1968 CC   \n",
       "\n",
       "       Power  Seats  New_Price  Price  \n",
       "0  58.16 bhp    5.0        NaN   1.75  \n",
       "1  126.2 bhp    5.0        NaN  12.50  \n",
       "2   88.7 bhp    5.0  8.61 Lakh   4.50  \n",
       "3  88.76 bhp    7.0        NaN   6.00  \n",
       "4  140.8 bhp    5.0        NaN  17.74  "
      ]
     },
     "execution_count": 106,
     "metadata": {},
     "output_type": "execute_result"
    }
   ],
   "source": [
    "df = pd.concat([train_df, test_df], axis=0)\n",
    "df.head()"
   ]
  },
  {
   "cell_type": "code",
   "execution_count": 107,
   "id": "84d5d185",
   "metadata": {},
   "outputs": [
    {
     "data": {
      "text/plain": [
       "(1234, 14)"
      ]
     },
     "execution_count": 107,
     "metadata": {},
     "output_type": "execute_result"
    }
   ],
   "source": [
    "df[df.Price.isnull()].shape"
   ]
  },
  {
   "cell_type": "markdown",
   "id": "a205ca89",
   "metadata": {},
   "source": [
    "### Data cleaning (filling null values,filtering features,handeling missing values, encoding  etc.)"
   ]
  },
  {
   "cell_type": "code",
   "execution_count": 108,
   "id": "47a8de4d",
   "metadata": {},
   "outputs": [],
   "source": [
    "df.drop('Unnamed: 0', axis=1, inplace=True)"
   ]
  },
  {
   "cell_type": "code",
   "execution_count": 109,
   "id": "ef753124",
   "metadata": {
    "scrolled": true
   },
   "outputs": [
    {
     "data": {
      "text/plain": [
       "0    11\n",
       "1     6\n",
       "2    10\n",
       "3     9\n",
       "4     8\n",
       "Name: Age_of_car, dtype: int64"
      ]
     },
     "execution_count": 109,
     "metadata": {},
     "output_type": "execute_result"
    }
   ],
   "source": [
    "##here I am adding new feature Age_of_car according to current year in the palce of year\n",
    "current_year = 2021\n",
    "df['Age_of_car'] = current_year-df.Year\n",
    "df.drop('Year', axis=1, inplace=True)\n",
    "df['Age_of_car'].head()"
   ]
  },
  {
   "cell_type": "code",
   "execution_count": 110,
   "id": "ee73637b",
   "metadata": {},
   "outputs": [
    {
     "data": {
      "text/html": [
       "<div>\n",
       "<style scoped>\n",
       "    .dataframe tbody tr th:only-of-type {\n",
       "        vertical-align: middle;\n",
       "    }\n",
       "\n",
       "    .dataframe tbody tr th {\n",
       "        vertical-align: top;\n",
       "    }\n",
       "\n",
       "    .dataframe thead th {\n",
       "        text-align: right;\n",
       "    }\n",
       "</style>\n",
       "<table border=\"1\" class=\"dataframe\">\n",
       "  <thead>\n",
       "    <tr style=\"text-align: right;\">\n",
       "      <th></th>\n",
       "      <th>Name</th>\n",
       "      <th>Location</th>\n",
       "      <th>Kilometers_Driven</th>\n",
       "      <th>Fuel_Type</th>\n",
       "      <th>Transmission</th>\n",
       "      <th>Owner_Type</th>\n",
       "      <th>Mileage</th>\n",
       "      <th>Engine</th>\n",
       "      <th>Power</th>\n",
       "      <th>Seats</th>\n",
       "      <th>New_Price</th>\n",
       "      <th>Price</th>\n",
       "      <th>Age_of_car</th>\n",
       "    </tr>\n",
       "  </thead>\n",
       "  <tbody>\n",
       "    <tr>\n",
       "      <th>0</th>\n",
       "      <td>Maruti Wagon R LXI CNG</td>\n",
       "      <td>Mumbai</td>\n",
       "      <td>72000</td>\n",
       "      <td>CNG</td>\n",
       "      <td>Manual</td>\n",
       "      <td>First</td>\n",
       "      <td>26.6 km/kg</td>\n",
       "      <td>998 CC</td>\n",
       "      <td>58.16 bhp</td>\n",
       "      <td>5.0</td>\n",
       "      <td>NaN</td>\n",
       "      <td>1.75</td>\n",
       "      <td>11</td>\n",
       "    </tr>\n",
       "    <tr>\n",
       "      <th>1</th>\n",
       "      <td>Hyundai Creta 1.6 CRDi SX Option</td>\n",
       "      <td>Pune</td>\n",
       "      <td>41000</td>\n",
       "      <td>Diesel</td>\n",
       "      <td>Manual</td>\n",
       "      <td>First</td>\n",
       "      <td>19.67 kmpl</td>\n",
       "      <td>1582 CC</td>\n",
       "      <td>126.2 bhp</td>\n",
       "      <td>5.0</td>\n",
       "      <td>NaN</td>\n",
       "      <td>12.50</td>\n",
       "      <td>6</td>\n",
       "    </tr>\n",
       "    <tr>\n",
       "      <th>2</th>\n",
       "      <td>Honda Jazz V</td>\n",
       "      <td>Chennai</td>\n",
       "      <td>46000</td>\n",
       "      <td>Petrol</td>\n",
       "      <td>Manual</td>\n",
       "      <td>First</td>\n",
       "      <td>18.2 kmpl</td>\n",
       "      <td>1199 CC</td>\n",
       "      <td>88.7 bhp</td>\n",
       "      <td>5.0</td>\n",
       "      <td>8.61 Lakh</td>\n",
       "      <td>4.50</td>\n",
       "      <td>10</td>\n",
       "    </tr>\n",
       "    <tr>\n",
       "      <th>3</th>\n",
       "      <td>Maruti Ertiga VDI</td>\n",
       "      <td>Chennai</td>\n",
       "      <td>87000</td>\n",
       "      <td>Diesel</td>\n",
       "      <td>Manual</td>\n",
       "      <td>First</td>\n",
       "      <td>20.77 kmpl</td>\n",
       "      <td>1248 CC</td>\n",
       "      <td>88.76 bhp</td>\n",
       "      <td>7.0</td>\n",
       "      <td>NaN</td>\n",
       "      <td>6.00</td>\n",
       "      <td>9</td>\n",
       "    </tr>\n",
       "    <tr>\n",
       "      <th>4</th>\n",
       "      <td>Audi A4 New 2.0 TDI Multitronic</td>\n",
       "      <td>Coimbatore</td>\n",
       "      <td>40670</td>\n",
       "      <td>Diesel</td>\n",
       "      <td>Automatic</td>\n",
       "      <td>Second</td>\n",
       "      <td>15.2 kmpl</td>\n",
       "      <td>1968 CC</td>\n",
       "      <td>140.8 bhp</td>\n",
       "      <td>5.0</td>\n",
       "      <td>NaN</td>\n",
       "      <td>17.74</td>\n",
       "      <td>8</td>\n",
       "    </tr>\n",
       "  </tbody>\n",
       "</table>\n",
       "</div>"
      ],
      "text/plain": [
       "                               Name    Location  Kilometers_Driven Fuel_Type  \\\n",
       "0            Maruti Wagon R LXI CNG      Mumbai              72000       CNG   \n",
       "1  Hyundai Creta 1.6 CRDi SX Option        Pune              41000    Diesel   \n",
       "2                      Honda Jazz V     Chennai              46000    Petrol   \n",
       "3                 Maruti Ertiga VDI     Chennai              87000    Diesel   \n",
       "4   Audi A4 New 2.0 TDI Multitronic  Coimbatore              40670    Diesel   \n",
       "\n",
       "  Transmission Owner_Type     Mileage   Engine      Power  Seats  New_Price  \\\n",
       "0       Manual      First  26.6 km/kg   998 CC  58.16 bhp    5.0        NaN   \n",
       "1       Manual      First  19.67 kmpl  1582 CC  126.2 bhp    5.0        NaN   \n",
       "2       Manual      First   18.2 kmpl  1199 CC   88.7 bhp    5.0  8.61 Lakh   \n",
       "3       Manual      First  20.77 kmpl  1248 CC  88.76 bhp    7.0        NaN   \n",
       "4    Automatic     Second   15.2 kmpl  1968 CC  140.8 bhp    5.0        NaN   \n",
       "\n",
       "   Price  Age_of_car  \n",
       "0   1.75          11  \n",
       "1  12.50           6  \n",
       "2   4.50          10  \n",
       "3   6.00           9  \n",
       "4  17.74           8  "
      ]
     },
     "execution_count": 110,
     "metadata": {},
     "output_type": "execute_result"
    }
   ],
   "source": [
    "df.head()"
   ]
  },
  {
   "cell_type": "code",
   "execution_count": 111,
   "id": "57caac38",
   "metadata": {},
   "outputs": [],
   "source": [
    "df.Mileage = df.Mileage.str.split(expand=True)[0]\n",
    "df.Engine = df.Engine.str.split(expand=True)[0]\n",
    "df.Power = df.Power.str.split(expand=True)[0]"
   ]
  },
  {
   "cell_type": "code",
   "execution_count": 112,
   "id": "7063f357",
   "metadata": {},
   "outputs": [
    {
     "data": {
      "text/plain": [
       "dtype('O')"
      ]
     },
     "execution_count": 112,
     "metadata": {},
     "output_type": "execute_result"
    }
   ],
   "source": [
    "df.Mileage.dtype"
   ]
  },
  {
   "cell_type": "code",
   "execution_count": 113,
   "id": "2b02ab9c",
   "metadata": {},
   "outputs": [],
   "source": [
    "##changing datatype \n",
    "df.Power = pd.to_numeric(df.Power, errors='coerce')\n",
    "df.Mileage = pd.to_numeric(df.Mileage, errors='coerce')\n",
    "df.Engine = pd.to_numeric(df.Engine, errors='coerce')"
   ]
  },
  {
   "cell_type": "code",
   "execution_count": 114,
   "id": "37812bae",
   "metadata": {},
   "outputs": [
    {
     "data": {
      "text/plain": [
       "dtype('float64')"
      ]
     },
     "execution_count": 114,
     "metadata": {},
     "output_type": "execute_result"
    }
   ],
   "source": [
    "df.Mileage.dtype"
   ]
  },
  {
   "cell_type": "code",
   "execution_count": 115,
   "id": "764d10e1",
   "metadata": {},
   "outputs": [
    {
     "data": {
      "text/html": [
       "<div>\n",
       "<style scoped>\n",
       "    .dataframe tbody tr th:only-of-type {\n",
       "        vertical-align: middle;\n",
       "    }\n",
       "\n",
       "    .dataframe tbody tr th {\n",
       "        vertical-align: top;\n",
       "    }\n",
       "\n",
       "    .dataframe thead th {\n",
       "        text-align: right;\n",
       "    }\n",
       "</style>\n",
       "<table border=\"1\" class=\"dataframe\">\n",
       "  <thead>\n",
       "    <tr style=\"text-align: right;\">\n",
       "      <th></th>\n",
       "      <th>Name</th>\n",
       "      <th>Location</th>\n",
       "      <th>Kilometers_Driven</th>\n",
       "      <th>Fuel_Type</th>\n",
       "      <th>Transmission</th>\n",
       "      <th>Owner_Type</th>\n",
       "      <th>Mileage</th>\n",
       "      <th>Engine</th>\n",
       "      <th>Power</th>\n",
       "      <th>Seats</th>\n",
       "      <th>New_Price</th>\n",
       "      <th>Price</th>\n",
       "      <th>Age_of_car</th>\n",
       "    </tr>\n",
       "  </thead>\n",
       "  <tbody>\n",
       "    <tr>\n",
       "      <th>0</th>\n",
       "      <td>Maruti Wagon R LXI CNG</td>\n",
       "      <td>Mumbai</td>\n",
       "      <td>72000</td>\n",
       "      <td>CNG</td>\n",
       "      <td>Manual</td>\n",
       "      <td>First</td>\n",
       "      <td>26.60</td>\n",
       "      <td>998.0</td>\n",
       "      <td>58.16</td>\n",
       "      <td>5.0</td>\n",
       "      <td>NaN</td>\n",
       "      <td>1.75</td>\n",
       "      <td>11</td>\n",
       "    </tr>\n",
       "    <tr>\n",
       "      <th>1</th>\n",
       "      <td>Hyundai Creta 1.6 CRDi SX Option</td>\n",
       "      <td>Pune</td>\n",
       "      <td>41000</td>\n",
       "      <td>Diesel</td>\n",
       "      <td>Manual</td>\n",
       "      <td>First</td>\n",
       "      <td>19.67</td>\n",
       "      <td>1582.0</td>\n",
       "      <td>126.20</td>\n",
       "      <td>5.0</td>\n",
       "      <td>NaN</td>\n",
       "      <td>12.50</td>\n",
       "      <td>6</td>\n",
       "    </tr>\n",
       "    <tr>\n",
       "      <th>2</th>\n",
       "      <td>Honda Jazz V</td>\n",
       "      <td>Chennai</td>\n",
       "      <td>46000</td>\n",
       "      <td>Petrol</td>\n",
       "      <td>Manual</td>\n",
       "      <td>First</td>\n",
       "      <td>18.20</td>\n",
       "      <td>1199.0</td>\n",
       "      <td>88.70</td>\n",
       "      <td>5.0</td>\n",
       "      <td>8.61 Lakh</td>\n",
       "      <td>4.50</td>\n",
       "      <td>10</td>\n",
       "    </tr>\n",
       "    <tr>\n",
       "      <th>3</th>\n",
       "      <td>Maruti Ertiga VDI</td>\n",
       "      <td>Chennai</td>\n",
       "      <td>87000</td>\n",
       "      <td>Diesel</td>\n",
       "      <td>Manual</td>\n",
       "      <td>First</td>\n",
       "      <td>20.77</td>\n",
       "      <td>1248.0</td>\n",
       "      <td>88.76</td>\n",
       "      <td>7.0</td>\n",
       "      <td>NaN</td>\n",
       "      <td>6.00</td>\n",
       "      <td>9</td>\n",
       "    </tr>\n",
       "    <tr>\n",
       "      <th>4</th>\n",
       "      <td>Audi A4 New 2.0 TDI Multitronic</td>\n",
       "      <td>Coimbatore</td>\n",
       "      <td>40670</td>\n",
       "      <td>Diesel</td>\n",
       "      <td>Automatic</td>\n",
       "      <td>Second</td>\n",
       "      <td>15.20</td>\n",
       "      <td>1968.0</td>\n",
       "      <td>140.80</td>\n",
       "      <td>5.0</td>\n",
       "      <td>NaN</td>\n",
       "      <td>17.74</td>\n",
       "      <td>8</td>\n",
       "    </tr>\n",
       "  </tbody>\n",
       "</table>\n",
       "</div>"
      ],
      "text/plain": [
       "                               Name    Location  Kilometers_Driven Fuel_Type  \\\n",
       "0            Maruti Wagon R LXI CNG      Mumbai              72000       CNG   \n",
       "1  Hyundai Creta 1.6 CRDi SX Option        Pune              41000    Diesel   \n",
       "2                      Honda Jazz V     Chennai              46000    Petrol   \n",
       "3                 Maruti Ertiga VDI     Chennai              87000    Diesel   \n",
       "4   Audi A4 New 2.0 TDI Multitronic  Coimbatore              40670    Diesel   \n",
       "\n",
       "  Transmission Owner_Type  Mileage  Engine   Power  Seats  New_Price  Price  \\\n",
       "0       Manual      First    26.60   998.0   58.16    5.0        NaN   1.75   \n",
       "1       Manual      First    19.67  1582.0  126.20    5.0        NaN  12.50   \n",
       "2       Manual      First    18.20  1199.0   88.70    5.0  8.61 Lakh   4.50   \n",
       "3       Manual      First    20.77  1248.0   88.76    7.0        NaN   6.00   \n",
       "4    Automatic     Second    15.20  1968.0  140.80    5.0        NaN  17.74   \n",
       "\n",
       "   Age_of_car  \n",
       "0          11  \n",
       "1           6  \n",
       "2          10  \n",
       "3           9  \n",
       "4           8  "
      ]
     },
     "execution_count": 115,
     "metadata": {},
     "output_type": "execute_result"
    }
   ],
   "source": [
    "df.head()"
   ]
  },
  {
   "cell_type": "code",
   "execution_count": 116,
   "id": "442cd85f",
   "metadata": {},
   "outputs": [
    {
     "data": {
      "text/plain": [
       "Name                    0\n",
       "Location                0\n",
       "Kilometers_Driven       0\n",
       "Fuel_Type               0\n",
       "Transmission            0\n",
       "Owner_Type              0\n",
       "Mileage                 2\n",
       "Engine                 46\n",
       "Power                 175\n",
       "Seats                  53\n",
       "New_Price            6247\n",
       "Price                1234\n",
       "Age_of_car              0\n",
       "dtype: int64"
      ]
     },
     "execution_count": 116,
     "metadata": {},
     "output_type": "execute_result"
    }
   ],
   "source": [
    "df.isnull().sum()"
   ]
  },
  {
   "cell_type": "code",
   "execution_count": 117,
   "id": "52705725",
   "metadata": {},
   "outputs": [],
   "source": [
    "##this column contains maximum number of null values and filling more than 75% of a column is not an appropiate approach\n",
    "df.drop('New_Price', axis=1, inplace=True)"
   ]
  },
  {
   "cell_type": "code",
   "execution_count": 118,
   "id": "c3614202",
   "metadata": {},
   "outputs": [
    {
     "data": {
      "text/html": [
       "<div>\n",
       "<style scoped>\n",
       "    .dataframe tbody tr th:only-of-type {\n",
       "        vertical-align: middle;\n",
       "    }\n",
       "\n",
       "    .dataframe tbody tr th {\n",
       "        vertical-align: top;\n",
       "    }\n",
       "\n",
       "    .dataframe thead th {\n",
       "        text-align: right;\n",
       "    }\n",
       "</style>\n",
       "<table border=\"1\" class=\"dataframe\">\n",
       "  <thead>\n",
       "    <tr style=\"text-align: right;\">\n",
       "      <th></th>\n",
       "      <th>Name</th>\n",
       "      <th>Location</th>\n",
       "      <th>Kilometers_Driven</th>\n",
       "      <th>Fuel_Type</th>\n",
       "      <th>Transmission</th>\n",
       "      <th>Owner_Type</th>\n",
       "      <th>Mileage</th>\n",
       "      <th>Engine</th>\n",
       "      <th>Power</th>\n",
       "      <th>Seats</th>\n",
       "      <th>Price</th>\n",
       "      <th>Age_of_car</th>\n",
       "    </tr>\n",
       "  </thead>\n",
       "  <tbody>\n",
       "    <tr>\n",
       "      <th>0</th>\n",
       "      <td>Maruti Wagon R LXI CNG</td>\n",
       "      <td>Mumbai</td>\n",
       "      <td>72000</td>\n",
       "      <td>CNG</td>\n",
       "      <td>Manual</td>\n",
       "      <td>First</td>\n",
       "      <td>26.60</td>\n",
       "      <td>998.0</td>\n",
       "      <td>58.16</td>\n",
       "      <td>5.0</td>\n",
       "      <td>1.75</td>\n",
       "      <td>11</td>\n",
       "    </tr>\n",
       "    <tr>\n",
       "      <th>1</th>\n",
       "      <td>Hyundai Creta 1.6 CRDi SX Option</td>\n",
       "      <td>Pune</td>\n",
       "      <td>41000</td>\n",
       "      <td>Diesel</td>\n",
       "      <td>Manual</td>\n",
       "      <td>First</td>\n",
       "      <td>19.67</td>\n",
       "      <td>1582.0</td>\n",
       "      <td>126.20</td>\n",
       "      <td>5.0</td>\n",
       "      <td>12.50</td>\n",
       "      <td>6</td>\n",
       "    </tr>\n",
       "    <tr>\n",
       "      <th>2</th>\n",
       "      <td>Honda Jazz V</td>\n",
       "      <td>Chennai</td>\n",
       "      <td>46000</td>\n",
       "      <td>Petrol</td>\n",
       "      <td>Manual</td>\n",
       "      <td>First</td>\n",
       "      <td>18.20</td>\n",
       "      <td>1199.0</td>\n",
       "      <td>88.70</td>\n",
       "      <td>5.0</td>\n",
       "      <td>4.50</td>\n",
       "      <td>10</td>\n",
       "    </tr>\n",
       "    <tr>\n",
       "      <th>3</th>\n",
       "      <td>Maruti Ertiga VDI</td>\n",
       "      <td>Chennai</td>\n",
       "      <td>87000</td>\n",
       "      <td>Diesel</td>\n",
       "      <td>Manual</td>\n",
       "      <td>First</td>\n",
       "      <td>20.77</td>\n",
       "      <td>1248.0</td>\n",
       "      <td>88.76</td>\n",
       "      <td>7.0</td>\n",
       "      <td>6.00</td>\n",
       "      <td>9</td>\n",
       "    </tr>\n",
       "    <tr>\n",
       "      <th>4</th>\n",
       "      <td>Audi A4 New 2.0 TDI Multitronic</td>\n",
       "      <td>Coimbatore</td>\n",
       "      <td>40670</td>\n",
       "      <td>Diesel</td>\n",
       "      <td>Automatic</td>\n",
       "      <td>Second</td>\n",
       "      <td>15.20</td>\n",
       "      <td>1968.0</td>\n",
       "      <td>140.80</td>\n",
       "      <td>5.0</td>\n",
       "      <td>17.74</td>\n",
       "      <td>8</td>\n",
       "    </tr>\n",
       "  </tbody>\n",
       "</table>\n",
       "</div>"
      ],
      "text/plain": [
       "                               Name    Location  Kilometers_Driven Fuel_Type  \\\n",
       "0            Maruti Wagon R LXI CNG      Mumbai              72000       CNG   \n",
       "1  Hyundai Creta 1.6 CRDi SX Option        Pune              41000    Diesel   \n",
       "2                      Honda Jazz V     Chennai              46000    Petrol   \n",
       "3                 Maruti Ertiga VDI     Chennai              87000    Diesel   \n",
       "4   Audi A4 New 2.0 TDI Multitronic  Coimbatore              40670    Diesel   \n",
       "\n",
       "  Transmission Owner_Type  Mileage  Engine   Power  Seats  Price  Age_of_car  \n",
       "0       Manual      First    26.60   998.0   58.16    5.0   1.75          11  \n",
       "1       Manual      First    19.67  1582.0  126.20    5.0  12.50           6  \n",
       "2       Manual      First    18.20  1199.0   88.70    5.0   4.50          10  \n",
       "3       Manual      First    20.77  1248.0   88.76    7.0   6.00           9  \n",
       "4    Automatic     Second    15.20  1968.0  140.80    5.0  17.74           8  "
      ]
     },
     "execution_count": 118,
     "metadata": {},
     "output_type": "execute_result"
    }
   ],
   "source": [
    "df.head()"
   ]
  },
  {
   "cell_type": "code",
   "execution_count": 119,
   "id": "688d6eb9",
   "metadata": {},
   "outputs": [],
   "source": [
    "for col in ['Mileage','Engine','Power']: \n",
    "    df[col] = df[col].fillna(df[col].mean(), axis=0)"
   ]
  },
  {
   "cell_type": "code",
   "execution_count": 120,
   "id": "ce080f24",
   "metadata": {},
   "outputs": [
    {
     "data": {
      "text/plain": [
       "5.0     6047\n",
       "7.0      796\n",
       "8.0      170\n",
       "4.0      119\n",
       "6.0       38\n",
       "2.0       18\n",
       "10.0       8\n",
       "9.0        3\n",
       "0.0        1\n",
       "Name: Seats, dtype: int64"
      ]
     },
     "execution_count": 120,
     "metadata": {},
     "output_type": "execute_result"
    }
   ],
   "source": [
    "df.Seats.value_counts()"
   ]
  },
  {
   "cell_type": "code",
   "execution_count": 121,
   "id": "97be00e4",
   "metadata": {},
   "outputs": [],
   "source": [
    "##most of the cars have 5 sits in the dataset \n",
    "df['Seats'].fillna(value=5.0, inplace=True)"
   ]
  },
  {
   "cell_type": "markdown",
   "id": "64da79b2",
   "metadata": {},
   "source": [
    "### Encoding"
   ]
  },
  {
   "cell_type": "code",
   "execution_count": 122,
   "id": "860da4eb",
   "metadata": {},
   "outputs": [
    {
     "name": "stdout",
     "output_type": "stream",
     "text": [
      "{'CNG': 0.001, 'Diesel': 0.0011, 'Petrol': 0.0012000000000000001, 'LPG': 0.0013000000000000002, 'Electric': 0.0014000000000000002}\n"
     ]
    }
   ],
   "source": [
    "a = dict()\n",
    "b = .001\n",
    "for k in df['Fuel_Type'].unique():\n",
    "    a[k]=b\n",
    "    b = b+.0001\n",
    "print(a)"
   ]
  },
  {
   "cell_type": "code",
   "execution_count": 123,
   "id": "5da629d4",
   "metadata": {},
   "outputs": [
    {
     "name": "stdout",
     "output_type": "stream",
     "text": [
      "{'Mumbai': 0.001, 'Pune': 0.002, 'Chennai': 0.003, 'Coimbatore': 0.004, 'Hyderabad': 0.005, 'Jaipur': 0.006, 'Kochi': 0.007, 'Kolkata': 0.008, 'Delhi': 0.009000000000000001, 'Bangalore': 0.010000000000000002, 'Ahmedabad': 0.011000000000000003}\n"
     ]
    }
   ],
   "source": [
    "e=dict()\n",
    "f = 0.001\n",
    "for j in df['Location'].unique():\n",
    "    e[j]=f\n",
    "    f=f+0.001\n",
    "print(e)"
   ]
  },
  {
   "cell_type": "code",
   "execution_count": 124,
   "id": "cdd2c111",
   "metadata": {},
   "outputs": [
    {
     "data": {
      "text/plain": [
       "array(['Manual', 'Automatic'], dtype=object)"
      ]
     },
     "execution_count": 124,
     "metadata": {},
     "output_type": "execute_result"
    }
   ],
   "source": [
    "df['Transmission'].unique()"
   ]
  },
  {
   "cell_type": "code",
   "execution_count": 125,
   "id": "d39df049",
   "metadata": {},
   "outputs": [],
   "source": [
    "col = {\"Manual\" :1,\"Automatic\" :2}"
   ]
  },
  {
   "cell_type": "code",
   "execution_count": 126,
   "id": "32419943",
   "metadata": {},
   "outputs": [],
   "source": [
    "d = {'First': 4, 'Second': 3, 'Fourth & Above': 1, 'Third': 2}"
   ]
  },
  {
   "cell_type": "code",
   "execution_count": 127,
   "id": "69575dfc",
   "metadata": {},
   "outputs": [],
   "source": [
    "Brand_name = list()\n",
    "for i in df['Name'].values:\n",
    "    Brand_name.append(i.split()[0])"
   ]
  },
  {
   "cell_type": "code",
   "execution_count": 128,
   "id": "e350177d",
   "metadata": {},
   "outputs": [],
   "source": [
    "df['Brand_name'] = Brand_name"
   ]
  },
  {
   "cell_type": "code",
   "execution_count": 129,
   "id": "ff009aa5",
   "metadata": {},
   "outputs": [],
   "source": [
    "## giving importants to brand value\n",
    "list1= ['Maruti','Hyundai','Honda','Tata','Mahindra','Ford','Datsun','Toyota','Chevrolet'\n",
    "        ,'Skoda','Jeep','Smart','Isuzu','ISUZU','Force','Volkswagen','Renault','Mitsubishi']\n",
    "list2 = ['Audi','Nissan','Mercedes-Benz','BMW','Porsche','Jaguar','Volvo','Mini','Bentley','Lamborghini','Land']\n",
    "list3 = ['Ambassador','OpelCorsa','Fiat','Hindustan']"
   ]
  },
  {
   "cell_type": "code",
   "execution_count": 130,
   "id": "299c6748",
   "metadata": {},
   "outputs": [
    {
     "name": "stdout",
     "output_type": "stream",
     "text": [
      "{'Maruti': 1, 'Hyundai': 1, 'Honda': 1, 'Audi': 2, 'Nissan': 2, 'Toyota': 1, 'Volkswagen': 1, 'Tata': 1, 'Land': 2, 'Mitsubishi': 1, 'Renault': 1, 'Mercedes-Benz': 2, 'BMW': 2, 'Mahindra': 1, 'Ford': 1, 'Porsche': 2, 'Datsun': 1, 'Jaguar': 2, 'Volvo': 2, 'Chevrolet': 1, 'Skoda': 1, 'Mini': 2, 'Fiat': 0, 'Jeep': 1, 'Smart': 1, 'Ambassador': 0, 'Isuzu': 1, 'ISUZU': 1, 'Force': 1, 'Bentley': 2, 'Lamborghini': 2, 'Hindustan': 0, 'OpelCorsa': 0}\n"
     ]
    }
   ],
   "source": [
    "p = dict()\n",
    "for i in df['Brand_name'].unique():\n",
    "    if i in list1:\n",
    "        p[i]= 1\n",
    "    if i in list2:\n",
    "        p[i]= 2\n",
    "    if i in list3:\n",
    "        p[i]= 0\n",
    "print(p)"
   ]
  },
  {
   "cell_type": "code",
   "execution_count": 131,
   "id": "7c6c67f3",
   "metadata": {},
   "outputs": [],
   "source": [
    "df['Brand_name'] = df['Brand_name'].map(p)\n",
    "df['Transmission']=df['Transmission'].map(col)\n",
    "df['Owner_Type'] = df['Owner_Type'].map(d)\n",
    "df['Location'] = df['Location'].map(e)\n",
    "df['Fuel_Type'] = df['Fuel_Type'].map(a)"
   ]
  },
  {
   "cell_type": "code",
   "execution_count": 132,
   "id": "e3d2f0b4",
   "metadata": {},
   "outputs": [
    {
     "data": {
      "text/html": [
       "<div>\n",
       "<style scoped>\n",
       "    .dataframe tbody tr th:only-of-type {\n",
       "        vertical-align: middle;\n",
       "    }\n",
       "\n",
       "    .dataframe tbody tr th {\n",
       "        vertical-align: top;\n",
       "    }\n",
       "\n",
       "    .dataframe thead th {\n",
       "        text-align: right;\n",
       "    }\n",
       "</style>\n",
       "<table border=\"1\" class=\"dataframe\">\n",
       "  <thead>\n",
       "    <tr style=\"text-align: right;\">\n",
       "      <th></th>\n",
       "      <th>Name</th>\n",
       "      <th>Location</th>\n",
       "      <th>Kilometers_Driven</th>\n",
       "      <th>Fuel_Type</th>\n",
       "      <th>Transmission</th>\n",
       "      <th>Owner_Type</th>\n",
       "      <th>Mileage</th>\n",
       "      <th>Engine</th>\n",
       "      <th>Power</th>\n",
       "      <th>Seats</th>\n",
       "      <th>Price</th>\n",
       "      <th>Age_of_car</th>\n",
       "      <th>Brand_name</th>\n",
       "    </tr>\n",
       "  </thead>\n",
       "  <tbody>\n",
       "    <tr>\n",
       "      <th>0</th>\n",
       "      <td>Maruti Wagon R LXI CNG</td>\n",
       "      <td>0.001</td>\n",
       "      <td>72000</td>\n",
       "      <td>0.0010</td>\n",
       "      <td>1</td>\n",
       "      <td>4</td>\n",
       "      <td>26.60</td>\n",
       "      <td>998.0</td>\n",
       "      <td>58.16</td>\n",
       "      <td>5.0</td>\n",
       "      <td>1.75</td>\n",
       "      <td>11</td>\n",
       "      <td>1</td>\n",
       "    </tr>\n",
       "    <tr>\n",
       "      <th>1</th>\n",
       "      <td>Hyundai Creta 1.6 CRDi SX Option</td>\n",
       "      <td>0.002</td>\n",
       "      <td>41000</td>\n",
       "      <td>0.0011</td>\n",
       "      <td>1</td>\n",
       "      <td>4</td>\n",
       "      <td>19.67</td>\n",
       "      <td>1582.0</td>\n",
       "      <td>126.20</td>\n",
       "      <td>5.0</td>\n",
       "      <td>12.50</td>\n",
       "      <td>6</td>\n",
       "      <td>1</td>\n",
       "    </tr>\n",
       "    <tr>\n",
       "      <th>2</th>\n",
       "      <td>Honda Jazz V</td>\n",
       "      <td>0.003</td>\n",
       "      <td>46000</td>\n",
       "      <td>0.0012</td>\n",
       "      <td>1</td>\n",
       "      <td>4</td>\n",
       "      <td>18.20</td>\n",
       "      <td>1199.0</td>\n",
       "      <td>88.70</td>\n",
       "      <td>5.0</td>\n",
       "      <td>4.50</td>\n",
       "      <td>10</td>\n",
       "      <td>1</td>\n",
       "    </tr>\n",
       "    <tr>\n",
       "      <th>3</th>\n",
       "      <td>Maruti Ertiga VDI</td>\n",
       "      <td>0.003</td>\n",
       "      <td>87000</td>\n",
       "      <td>0.0011</td>\n",
       "      <td>1</td>\n",
       "      <td>4</td>\n",
       "      <td>20.77</td>\n",
       "      <td>1248.0</td>\n",
       "      <td>88.76</td>\n",
       "      <td>7.0</td>\n",
       "      <td>6.00</td>\n",
       "      <td>9</td>\n",
       "      <td>1</td>\n",
       "    </tr>\n",
       "    <tr>\n",
       "      <th>4</th>\n",
       "      <td>Audi A4 New 2.0 TDI Multitronic</td>\n",
       "      <td>0.004</td>\n",
       "      <td>40670</td>\n",
       "      <td>0.0011</td>\n",
       "      <td>2</td>\n",
       "      <td>3</td>\n",
       "      <td>15.20</td>\n",
       "      <td>1968.0</td>\n",
       "      <td>140.80</td>\n",
       "      <td>5.0</td>\n",
       "      <td>17.74</td>\n",
       "      <td>8</td>\n",
       "      <td>2</td>\n",
       "    </tr>\n",
       "  </tbody>\n",
       "</table>\n",
       "</div>"
      ],
      "text/plain": [
       "                               Name  Location  Kilometers_Driven  Fuel_Type  \\\n",
       "0            Maruti Wagon R LXI CNG     0.001              72000     0.0010   \n",
       "1  Hyundai Creta 1.6 CRDi SX Option     0.002              41000     0.0011   \n",
       "2                      Honda Jazz V     0.003              46000     0.0012   \n",
       "3                 Maruti Ertiga VDI     0.003              87000     0.0011   \n",
       "4   Audi A4 New 2.0 TDI Multitronic     0.004              40670     0.0011   \n",
       "\n",
       "   Transmission  Owner_Type  Mileage  Engine   Power  Seats  Price  \\\n",
       "0             1           4    26.60   998.0   58.16    5.0   1.75   \n",
       "1             1           4    19.67  1582.0  126.20    5.0  12.50   \n",
       "2             1           4    18.20  1199.0   88.70    5.0   4.50   \n",
       "3             1           4    20.77  1248.0   88.76    7.0   6.00   \n",
       "4             2           3    15.20  1968.0  140.80    5.0  17.74   \n",
       "\n",
       "   Age_of_car  Brand_name  \n",
       "0          11           1  \n",
       "1           6           1  \n",
       "2          10           1  \n",
       "3           9           1  \n",
       "4           8           2  "
      ]
     },
     "execution_count": 132,
     "metadata": {},
     "output_type": "execute_result"
    }
   ],
   "source": [
    "df.head()"
   ]
  },
  {
   "cell_type": "code",
   "execution_count": 133,
   "id": "649e6df7",
   "metadata": {},
   "outputs": [],
   "source": [
    "df.drop('Name', axis=1, inplace=True)"
   ]
  },
  {
   "cell_type": "code",
   "execution_count": 134,
   "id": "a2d44e8d",
   "metadata": {},
   "outputs": [
    {
     "data": {
      "text/plain": [
       "Location                0\n",
       "Kilometers_Driven       0\n",
       "Fuel_Type               0\n",
       "Transmission            0\n",
       "Owner_Type              0\n",
       "Mileage                 0\n",
       "Engine                  0\n",
       "Power                   0\n",
       "Seats                   0\n",
       "Price                1234\n",
       "Age_of_car              0\n",
       "Brand_name              0\n",
       "dtype: int64"
      ]
     },
     "execution_count": 134,
     "metadata": {},
     "output_type": "execute_result"
    }
   ],
   "source": [
    "df.isnull().sum()"
   ]
  },
  {
   "cell_type": "code",
   "execution_count": 135,
   "id": "77bb1044",
   "metadata": {},
   "outputs": [],
   "source": [
    "train_data = df[df.Price>=0]\n",
    "test_data = df[df.Price.isnull()]\n",
    "test_data = test_data.drop('Price' , axis=1)"
   ]
  },
  {
   "cell_type": "markdown",
   "id": "9fe98f61",
   "metadata": {},
   "source": [
    "### Some visualization about the dataset "
   ]
  },
  {
   "cell_type": "code",
   "execution_count": 138,
   "id": "d0f3af69",
   "metadata": {},
   "outputs": [
    {
     "data": {
      "image/png": "[encoded data removed]",
      "text/plain": [
       "<Figure size 960x640 with 2 Axes>"
      ]
     },
     "metadata": {
      "needs_background": "light"
     },
     "output_type": "display_data"
    }
   ],
   "source": [
    "plt.figure(figsize=(12, 8), dpi=80)\n",
    "sns.heatmap(data=train_data.corr(), annot=True)\n",
    "plt.show()"
   ]
  },
  {
   "cell_type": "code",
   "execution_count": 146,
   "id": "41710b69",
   "metadata": {},
   "outputs": [
    {
     "data": {
      "image/png": "[encoded data removed]",
      "text/plain": [
       "<Figure size 432x288 with 1 Axes>"
      ]
     },
     "metadata": {
      "needs_background": "light"
     },
     "output_type": "display_data"
    }
   ],
   "source": [
    "plt.scatter(df['Engine'],df['Mileage'])\n",
    "plt.show()"
   ]
  },
  {
   "cell_type": "code",
   "execution_count": 147,
   "id": "bce024ce",
   "metadata": {},
   "outputs": [
    {
     "data": {
      "image/png": "[encoded data removed]",
      "text/plain": [
       "<Figure size 432x288 with 1 Axes>"
      ]
     },
     "metadata": {
      "needs_background": "light"
     },
     "output_type": "display_data"
    }
   ],
   "source": [
    "plt.scatter(df['Engine'],df['Power'])\n",
    "plt.show()"
   ]
  },
  {
   "cell_type": "code",
   "execution_count": 139,
   "id": "08fe51ab",
   "metadata": {},
   "outputs": [],
   "source": [
    "# Here (Engine,Mileage) are highly  corelated and (Engine,power) are highly \n",
    "# corelated show I drop Engine from the data frame\n",
    "train_data = train_data.drop('Engine', axis = 1)"
   ]
  },
  {
   "cell_type": "markdown",
   "id": "a9b1ea6e",
   "metadata": {},
   "source": [
    "### Dividing the data set into traning and testing"
   ]
  },
  {
   "cell_type": "code",
   "execution_count": 142,
   "id": "61ccf22f",
   "metadata": {},
   "outputs": [],
   "source": [
    "X = train_data.drop('Price', axis=1)\n",
    "y = train_data['Price']\n",
    "from sklearn.model_selection import train_test_split\n",
    "X_train, X_test, y_train, y_test = train_test_split(X, y, test_size = 0.2, random_state = 42)"
   ]
  },
  {
   "cell_type": "code",
   "execution_count": 174,
   "id": "646c115b",
   "metadata": {},
   "outputs": [
    {
     "data": {
      "text/html": [
       "<div>\n",
       "<style scoped>\n",
       "    .dataframe tbody tr th:only-of-type {\n",
       "        vertical-align: middle;\n",
       "    }\n",
       "\n",
       "    .dataframe tbody tr th {\n",
       "        vertical-align: top;\n",
       "    }\n",
       "\n",
       "    .dataframe thead th {\n",
       "        text-align: right;\n",
       "    }\n",
       "</style>\n",
       "<table border=\"1\" class=\"dataframe\">\n",
       "  <thead>\n",
       "    <tr style=\"text-align: right;\">\n",
       "      <th></th>\n",
       "      <th>Location</th>\n",
       "      <th>Kilometers_Driven</th>\n",
       "      <th>Fuel_Type</th>\n",
       "      <th>Transmission</th>\n",
       "      <th>Owner_Type</th>\n",
       "      <th>Mileage</th>\n",
       "      <th>Power</th>\n",
       "      <th>Seats</th>\n",
       "      <th>Age_of_car</th>\n",
       "      <th>Brand_name</th>\n",
       "    </tr>\n",
       "  </thead>\n",
       "  <tbody>\n",
       "    <tr>\n",
       "      <th>4248</th>\n",
       "      <td>0.009</td>\n",
       "      <td>76155</td>\n",
       "      <td>0.0012</td>\n",
       "      <td>1</td>\n",
       "      <td>4</td>\n",
       "      <td>18.60</td>\n",
       "      <td>79.40</td>\n",
       "      <td>5.0</td>\n",
       "      <td>10</td>\n",
       "      <td>1</td>\n",
       "    </tr>\n",
       "    <tr>\n",
       "      <th>4129</th>\n",
       "      <td>0.004</td>\n",
       "      <td>64637</td>\n",
       "      <td>0.0011</td>\n",
       "      <td>1</td>\n",
       "      <td>4</td>\n",
       "      <td>22.77</td>\n",
       "      <td>98.59</td>\n",
       "      <td>5.0</td>\n",
       "      <td>7</td>\n",
       "      <td>1</td>\n",
       "    </tr>\n",
       "    <tr>\n",
       "      <th>2534</th>\n",
       "      <td>0.008</td>\n",
       "      <td>2900</td>\n",
       "      <td>0.0011</td>\n",
       "      <td>1</td>\n",
       "      <td>4</td>\n",
       "      <td>24.30</td>\n",
       "      <td>88.50</td>\n",
       "      <td>5.0</td>\n",
       "      <td>3</td>\n",
       "      <td>1</td>\n",
       "    </tr>\n",
       "    <tr>\n",
       "      <th>2893</th>\n",
       "      <td>0.009</td>\n",
       "      <td>150000</td>\n",
       "      <td>0.0011</td>\n",
       "      <td>1</td>\n",
       "      <td>4</td>\n",
       "      <td>12.99</td>\n",
       "      <td>100.60</td>\n",
       "      <td>8.0</td>\n",
       "      <td>10</td>\n",
       "      <td>1</td>\n",
       "    </tr>\n",
       "    <tr>\n",
       "      <th>2860</th>\n",
       "      <td>0.005</td>\n",
       "      <td>98500</td>\n",
       "      <td>0.0011</td>\n",
       "      <td>1</td>\n",
       "      <td>4</td>\n",
       "      <td>22.95</td>\n",
       "      <td>74.00</td>\n",
       "      <td>5.0</td>\n",
       "      <td>4</td>\n",
       "      <td>1</td>\n",
       "    </tr>\n",
       "    <tr>\n",
       "      <th>...</th>\n",
       "      <td>...</td>\n",
       "      <td>...</td>\n",
       "      <td>...</td>\n",
       "      <td>...</td>\n",
       "      <td>...</td>\n",
       "      <td>...</td>\n",
       "      <td>...</td>\n",
       "      <td>...</td>\n",
       "      <td>...</td>\n",
       "      <td>...</td>\n",
       "    </tr>\n",
       "    <tr>\n",
       "      <th>3772</th>\n",
       "      <td>0.003</td>\n",
       "      <td>27000</td>\n",
       "      <td>0.0012</td>\n",
       "      <td>2</td>\n",
       "      <td>4</td>\n",
       "      <td>17.97</td>\n",
       "      <td>99.60</td>\n",
       "      <td>5.0</td>\n",
       "      <td>6</td>\n",
       "      <td>2</td>\n",
       "    </tr>\n",
       "    <tr>\n",
       "      <th>5191</th>\n",
       "      <td>0.003</td>\n",
       "      <td>9000</td>\n",
       "      <td>0.0011</td>\n",
       "      <td>2</td>\n",
       "      <td>4</td>\n",
       "      <td>12.62</td>\n",
       "      <td>158.00</td>\n",
       "      <td>7.0</td>\n",
       "      <td>2</td>\n",
       "      <td>1</td>\n",
       "    </tr>\n",
       "    <tr>\n",
       "      <th>5226</th>\n",
       "      <td>0.005</td>\n",
       "      <td>140000</td>\n",
       "      <td>0.0011</td>\n",
       "      <td>1</td>\n",
       "      <td>3</td>\n",
       "      <td>15.10</td>\n",
       "      <td>140.00</td>\n",
       "      <td>7.0</td>\n",
       "      <td>8</td>\n",
       "      <td>1</td>\n",
       "    </tr>\n",
       "    <tr>\n",
       "      <th>5390</th>\n",
       "      <td>0.006</td>\n",
       "      <td>76414</td>\n",
       "      <td>0.0011</td>\n",
       "      <td>1</td>\n",
       "      <td>4</td>\n",
       "      <td>25.80</td>\n",
       "      <td>98.60</td>\n",
       "      <td>5.0</td>\n",
       "      <td>7</td>\n",
       "      <td>1</td>\n",
       "    </tr>\n",
       "    <tr>\n",
       "      <th>860</th>\n",
       "      <td>0.008</td>\n",
       "      <td>98000</td>\n",
       "      <td>0.0011</td>\n",
       "      <td>1</td>\n",
       "      <td>3</td>\n",
       "      <td>12.80</td>\n",
       "      <td>102.00</td>\n",
       "      <td>8.0</td>\n",
       "      <td>10</td>\n",
       "      <td>1</td>\n",
       "    </tr>\n",
       "  </tbody>\n",
       "</table>\n",
       "<p>4815 rows × 10 columns</p>\n",
       "</div>"
      ],
      "text/plain": [
       "      Location  Kilometers_Driven  Fuel_Type  Transmission  Owner_Type  \\\n",
       "4248     0.009              76155     0.0012             1           4   \n",
       "4129     0.004              64637     0.0011             1           4   \n",
       "2534     0.008               2900     0.0011             1           4   \n",
       "2893     0.009             150000     0.0011             1           4   \n",
       "2860     0.005              98500     0.0011             1           4   \n",
       "...        ...                ...        ...           ...         ...   \n",
       "3772     0.003              27000     0.0012             2           4   \n",
       "5191     0.003               9000     0.0011             2           4   \n",
       "5226     0.005             140000     0.0011             1           3   \n",
       "5390     0.006              76414     0.0011             1           4   \n",
       "860      0.008              98000     0.0011             1           3   \n",
       "\n",
       "      Mileage   Power  Seats  Age_of_car  Brand_name  \n",
       "4248    18.60   79.40    5.0          10           1  \n",
       "4129    22.77   98.59    5.0           7           1  \n",
       "2534    24.30   88.50    5.0           3           1  \n",
       "2893    12.99  100.60    8.0          10           1  \n",
       "2860    22.95   74.00    5.0           4           1  \n",
       "...       ...     ...    ...         ...         ...  \n",
       "3772    17.97   99.60    5.0           6           2  \n",
       "5191    12.62  158.00    7.0           2           1  \n",
       "5226    15.10  140.00    7.0           8           1  \n",
       "5390    25.80   98.60    5.0           7           1  \n",
       "860     12.80  102.00    8.0          10           1  \n",
       "\n",
       "[4815 rows x 10 columns]"
      ]
     },
     "execution_count": 174,
     "metadata": {},
     "output_type": "execute_result"
    }
   ],
   "source": [
    "X_train"
   ]
  },
  {
   "cell_type": "markdown",
   "id": "f3fdf6e7",
   "metadata": {},
   "source": [
    "### Using multiple linear regression"
   ]
  },
  {
   "cell_type": "code",
   "execution_count": 143,
   "id": "c5e6f8db",
   "metadata": {},
   "outputs": [
    {
     "name": "stdout",
     "output_type": "stream",
     "text": [
      " test data:  0.5880063234032509\n"
     ]
    }
   ],
   "source": [
    "from sklearn.linear_model import LinearRegression\n",
    "regression_model = LinearRegression()\n",
    "regression_model.fit(X_train, y_train)\n",
    "\n",
    "y_pred = regression_model.predict(X_test)\n",
    "\n",
    "print(' test data: ', regression_model.score(X_test, y_test))"
   ]
  },
  {
   "cell_type": "markdown",
   "id": "19d2eaa8",
   "metadata": {},
   "source": [
    "### Using randomforest regression with 500 estimators "
   ]
  },
  {
   "cell_type": "code",
   "execution_count": 144,
   "id": "0b41083e",
   "metadata": {},
   "outputs": [
    {
     "name": "stdout",
     "output_type": "stream",
     "text": [
      "test data:  0.8742105186700561\n"
     ]
    }
   ],
   "source": [
    "from sklearn.ensemble import RandomForestRegressor\n",
    "rf_model = RandomForestRegressor(n_estimators = 500)\n",
    "rf_model.fit(X_train,y_train)\n",
    "RandomForestRegressorScore = rf_model.score(X_test, y_test)\n",
    "print('test data: ', rf_model.score(X_test, y_test))"
   ]
  },
  {
   "cell_type": "code",
   "execution_count": 173,
   "id": "a0e1b9d5",
   "metadata": {},
   "outputs": [
    {
     "data": {
      "text/plain": [
       "Index(['Location', 'Kilometers_Driven', 'Fuel_Type', 'Transmission',\n",
       "       'Owner_Type', 'Mileage', 'Power', 'Seats', 'Age_of_car', 'Brand_name'],\n",
       "      dtype='object')"
      ]
     },
     "execution_count": 173,
     "metadata": {},
     "output_type": "execute_result"
    }
   ],
   "source": [
    "X_train.columns"
   ]
  },
  {
   "cell_type": "markdown",
   "id": "78e0bdd4",
   "metadata": {},
   "source": [
    "### Using Gradiantboosing regression"
   ]
  },
  {
   "cell_type": "code",
   "execution_count": 145,
   "id": "3118cba4",
   "metadata": {},
   "outputs": [
    {
     "name": "stdout",
     "output_type": "stream",
     "text": [
      "test data:  0.8686367185746848\n"
     ]
    }
   ],
   "source": [
    "from sklearn.ensemble import GradientBoostingRegressor\n",
    "gbr = GradientBoostingRegressor()\n",
    "gbr.fit(X_train,y_train)\n",
    "GradientBoostingRegressorScore = gbr.score(X_test, y_test)\n",
    "print('test data: ', gbr.score(X_test, y_test))"
   ]
  },
  {
   "cell_type": "markdown",
   "id": "128adff7",
   "metadata": {},
   "source": [
    "   # Conclusion\n",
    "### Here randomforest with 500 estimators give more accuracy i'e  87%  so for prediction purpose randomforest is used ."
   ]
  },
  {
   "cell_type": "markdown",
   "id": "156921f1",
   "metadata": {},
   "source": [
    "# checking prediction"
   ]
  },
  {
   "cell_type": "code",
   "execution_count": 148,
   "id": "b54c4611",
   "metadata": {},
   "outputs": [],
   "source": [
    "import joblib as jb\n",
    "mymodel = jb.dump(rf_model , \"predicted_price.pkl\")"
   ]
  },
  {
   "cell_type": "code",
   "execution_count": 159,
   "id": "5ba88e02",
   "metadata": {},
   "outputs": [],
   "source": [
    "import json\n",
    "cols = list()\n",
    "for col in X_train.columns:\n",
    "    cols.append(col.lower())\n",
    "columns = {'data_columns' : cols}\n",
    "\n",
    "with open('predictors.json' , 'w') as f :\n",
    "        f.write(json.dumps(columns))"
   ]
  },
  {
   "cell_type": "code",
   "execution_count": 160,
   "id": "a623347f",
   "metadata": {},
   "outputs": [
    {
     "name": "stdout",
     "output_type": "stream",
     "text": [
      "['location', 'kilometers_driven', 'fuel_type', 'transmission', 'owner_type', 'mileage', 'power', 'seats', 'age_of_car', 'brand_name']\n"
     ]
    }
   ],
   "source": [
    "with open('predictors.json' , 'r') as e :\n",
    "        data_col = json.load(e)\n",
    "print(data_col['data_columns'])  "
   ]
  },
  {
   "cell_type": "code",
   "execution_count": 165,
   "id": "9944f304",
   "metadata": {},
   "outputs": [
    {
     "data": {
      "text/plain": [
       "['location',\n",
       " 'kilometers_driven',\n",
       " 'fuel_type',\n",
       " 'transmission',\n",
       " 'owner_type',\n",
       " 'mileage',\n",
       " 'power',\n",
       " 'seats',\n",
       " 'age_of_car',\n",
       " 'brand_name']"
      ]
     },
     "execution_count": 165,
     "metadata": {},
     "output_type": "execute_result"
    }
   ],
   "source": [
    "def read_artifects():\n",
    "    global data_col\n",
    "    with open('predictors.json' , 'r') as e :\n",
    "        data_col = json.load(e)['data_columns']\n",
    "        return data_col\n",
    "read_artifects()  "
   ]
  },
  {
   "cell_type": "code",
   "execution_count": 168,
   "id": "ed4a0164",
   "metadata": {},
   "outputs": [
    {
     "data": {
      "text/plain": [
       "['location',\n",
       " 'kilometers_driven',\n",
       " 'fuel_type',\n",
       " 'transmission',\n",
       " 'owner_type',\n",
       " 'mileage',\n",
       " 'power',\n",
       " 'seats',\n",
       " 'age_of_car',\n",
       " 'brand_name']"
      ]
     },
     "execution_count": 168,
     "metadata": {},
     "output_type": "execute_result"
    }
   ],
   "source": [
    "def show_feature_name():\n",
    "    return data_col\n",
    "show_feature_name()"
   ]
  },
  {
   "cell_type": "code",
   "execution_count": 193,
   "id": "0404f752",
   "metadata": {},
   "outputs": [],
   "source": [
    "def price_prediction(location,kilometers_driven,fuel_type,transmission,\n",
    "                     owner_type,mileage,power,seats,age_of_car,brand_name):\n",
    "    global mymodel\n",
    "    mymodel = jb.load(\"predicted_price.pkl\")\n",
    "    input = np.zeros(len(show_feature_name()))\n",
    "    input[0] = location\n",
    "    input[1] = kilometers_driven\n",
    "    input[2] = fuel_type\n",
    "    input[3] = transmission\n",
    "    input[4] = owner_type\n",
    "    input[5] = mileage\n",
    "    input[6] = power\n",
    "    input[7] = seats\n",
    "    input[8] = age_of_car\n",
    "    input[9] = brand_name\n",
    "    prediction = mymodel.predict([input])\n",
    "    return np.round(prediction , 2)"
   ]
  },
  {
   "cell_type": "code",
   "execution_count": 198,
   "id": "67d3031b",
   "metadata": {},
   "outputs": [
    {
     "name": "stdout",
     "output_type": "stream",
     "text": [
      "The price of the car is  2.25lac\n"
     ]
    }
   ],
   "source": [
    "read_artifects()\n",
    "show_feature_name()\n",
    "print(\"The price of the car is \" , str(price_prediction(0.009,76155,0.0012,1,4,18.60,79.40,5.0,10,1)[0]) +'lac')"
   ]
  },
  {
   "cell_type": "code",
   "execution_count": null,
   "id": "098b883d",
   "metadata": {},
   "outputs": [],
   "source": []
  }
 ],
 "metadata": {
  "kernelspec": {
   "display_name": "Python 3 (ipykernel)",
   "language": "python",
   "name": "python3"
  },
  "language_info": {
   "codemirror_mode": {
    "name": "ipython",
    "version": 3
   },
   "file_extension": ".py",
   "mimetype": "text/x-python",
   "name": "python",
   "nbconvert_exporter": "python",
   "pygments_lexer": "ipython3",
   "version": "3.9.7"
  }
 },
 "nbformat": 4,
 "nbformat_minor": 5
}
